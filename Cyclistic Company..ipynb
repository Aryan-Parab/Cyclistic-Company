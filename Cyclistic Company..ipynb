{
 "cells": [
  {
   "cell_type": "code",
   "execution_count": 1,
   "id": "ff28cc71",
   "metadata": {},
   "outputs": [],
   "source": [
    "#Import the libraries\n",
    "import numpy as np \n",
    "import pandas as pd\n",
    "import matplotlib.pyplot as plt\n",
    "import seaborn as sns"
   ]
  },
  {
   "cell_type": "code",
   "execution_count": 2,
   "id": "d402e419",
   "metadata": {},
   "outputs": [],
   "source": [
    "#Importing the files\n",
    "df1=pd.read_csv('202012-divvy-tripdata.csv')   \n",
    "df2=pd.read_csv('202101-divvy-tripdata.csv')   \n",
    "df3=pd.read_csv('202102-divvy-tripdata.csv')   \n",
    "df4=pd.read_csv('202103-divvy-tripdata.csv')    \n",
    "df5=pd.read_csv('202104-divvy-tripdata.csv')    \n",
    "df6=pd.read_csv('202105-divvy-tripdata.csv')    \n",
    "df7=pd.read_csv('202106-divvy-tripdata.csv')   \n",
    "df8=pd.read_csv('202107-divvy-tripdata.csv')   \n",
    "df9=pd.read_csv('202108-divvy-tripdata.csv')   \n",
    "df10=pd.read_csv('202109-divvy-tripdata.csv')  \n",
    "df11=pd.read_csv('202110-divvy-tripdata.csv')  \n",
    "df12=pd.read_csv('202111-divvy-tripdata.csv')  "
   ]
  },
  {
   "cell_type": "code",
   "execution_count": 3,
   "id": "103625a5",
   "metadata": {},
   "outputs": [],
   "source": [
    "# Incrementing all dataframes into a single dataframe.\n",
    "df=pd.concat([df1,df2,df3,df4,df5,df6,df7,df8,df9,df10,df11,df12])\n",
    "df.sort_values(by='started_at',inplace=True)"
   ]
  },
  {
   "cell_type": "code",
   "execution_count": 4,
   "id": "9fb95639",
   "metadata": {},
   "outputs": [
    {
     "data": {
      "text/plain": [
       "(5479096, 13)"
      ]
     },
     "execution_count": 4,
     "metadata": {},
     "output_type": "execute_result"
    }
   ],
   "source": [
    "# Rows and columns\n",
    "df.shape"
   ]
  },
  {
   "cell_type": "code",
   "execution_count": 5,
   "id": "516e956b",
   "metadata": {},
   "outputs": [],
   "source": [
    "df=df.copy()"
   ]
  },
  {
   "cell_type": "code",
   "execution_count": 6,
   "id": "90b02d07",
   "metadata": {},
   "outputs": [
    {
     "data": {
      "text/html": [
       "<div>\n",
       "<style scoped>\n",
       "    .dataframe tbody tr th:only-of-type {\n",
       "        vertical-align: middle;\n",
       "    }\n",
       "\n",
       "    .dataframe tbody tr th {\n",
       "        vertical-align: top;\n",
       "    }\n",
       "\n",
       "    .dataframe thead th {\n",
       "        text-align: right;\n",
       "    }\n",
       "</style>\n",
       "<table border=\"1\" class=\"dataframe\">\n",
       "  <thead>\n",
       "    <tr style=\"text-align: right;\">\n",
       "      <th></th>\n",
       "      <th>ride_id</th>\n",
       "      <th>rideable_type</th>\n",
       "      <th>started_at</th>\n",
       "      <th>ended_at</th>\n",
       "      <th>start_station_name</th>\n",
       "      <th>start_station_id</th>\n",
       "      <th>end_station_name</th>\n",
       "      <th>end_station_id</th>\n",
       "      <th>start_lat</th>\n",
       "      <th>start_lng</th>\n",
       "      <th>end_lat</th>\n",
       "      <th>end_lng</th>\n",
       "      <th>member_casual</th>\n",
       "    </tr>\n",
       "  </thead>\n",
       "  <tbody>\n",
       "    <tr>\n",
       "      <th>8504</th>\n",
       "      <td>1C46BF5EB60CC524</td>\n",
       "      <td>electric_bike</td>\n",
       "      <td>2020-12-01 00:01:15</td>\n",
       "      <td>2020-12-01 00:06:53</td>\n",
       "      <td>NaN</td>\n",
       "      <td>NaN</td>\n",
       "      <td>NaN</td>\n",
       "      <td>NaN</td>\n",
       "      <td>41.790000</td>\n",
       "      <td>-87.590000</td>\n",
       "      <td>41.800000</td>\n",
       "      <td>-87.600000</td>\n",
       "      <td>member</td>\n",
       "    </tr>\n",
       "    <tr>\n",
       "      <th>32523</th>\n",
       "      <td>1405BFC02FDB5190</td>\n",
       "      <td>electric_bike</td>\n",
       "      <td>2020-12-01 00:01:27</td>\n",
       "      <td>2020-12-01 00:06:33</td>\n",
       "      <td>NaN</td>\n",
       "      <td>NaN</td>\n",
       "      <td>Wentworth Ave &amp; 63rd St</td>\n",
       "      <td>KA1503000025</td>\n",
       "      <td>41.780000</td>\n",
       "      <td>-87.620000</td>\n",
       "      <td>41.780095</td>\n",
       "      <td>-87.629709</td>\n",
       "      <td>casual</td>\n",
       "    </tr>\n",
       "    <tr>\n",
       "      <th>35067</th>\n",
       "      <td>892ECFAB44203EAD</td>\n",
       "      <td>docked_bike</td>\n",
       "      <td>2020-12-01 00:07:08</td>\n",
       "      <td>2020-12-01 00:10:02</td>\n",
       "      <td>Larrabee St &amp; Armitage Ave</td>\n",
       "      <td>TA1309000006</td>\n",
       "      <td>Sedgwick St &amp; Webster Ave</td>\n",
       "      <td>13191</td>\n",
       "      <td>41.918084</td>\n",
       "      <td>-87.643749</td>\n",
       "      <td>41.922167</td>\n",
       "      <td>-87.638888</td>\n",
       "      <td>member</td>\n",
       "    </tr>\n",
       "    <tr>\n",
       "      <th>96126</th>\n",
       "      <td>7F0119D219127E62</td>\n",
       "      <td>docked_bike</td>\n",
       "      <td>2020-12-01 00:11:37</td>\n",
       "      <td>2020-12-01 00:21:31</td>\n",
       "      <td>Wabash Ave &amp; Adams St</td>\n",
       "      <td>KA1503000015</td>\n",
       "      <td>Peoria St &amp; Jackson Blvd</td>\n",
       "      <td>13158</td>\n",
       "      <td>41.879472</td>\n",
       "      <td>-87.625688</td>\n",
       "      <td>41.877642</td>\n",
       "      <td>-87.649618</td>\n",
       "      <td>member</td>\n",
       "    </tr>\n",
       "    <tr>\n",
       "      <th>58876</th>\n",
       "      <td>F5C7D6CF285DD638</td>\n",
       "      <td>docked_bike</td>\n",
       "      <td>2020-12-01 00:21:28</td>\n",
       "      <td>2020-12-01 00:28:04</td>\n",
       "      <td>Clarendon Ave &amp; Leland Ave</td>\n",
       "      <td>TA1307000119</td>\n",
       "      <td>Broadway &amp; Argyle St</td>\n",
       "      <td>13108</td>\n",
       "      <td>41.967968</td>\n",
       "      <td>-87.650001</td>\n",
       "      <td>41.973815</td>\n",
       "      <td>-87.659660</td>\n",
       "      <td>member</td>\n",
       "    </tr>\n",
       "  </tbody>\n",
       "</table>\n",
       "</div>"
      ],
      "text/plain": [
       "                ride_id  rideable_type           started_at  \\\n",
       "8504   1C46BF5EB60CC524  electric_bike  2020-12-01 00:01:15   \n",
       "32523  1405BFC02FDB5190  electric_bike  2020-12-01 00:01:27   \n",
       "35067  892ECFAB44203EAD    docked_bike  2020-12-01 00:07:08   \n",
       "96126  7F0119D219127E62    docked_bike  2020-12-01 00:11:37   \n",
       "58876  F5C7D6CF285DD638    docked_bike  2020-12-01 00:21:28   \n",
       "\n",
       "                  ended_at          start_station_name start_station_id  \\\n",
       "8504   2020-12-01 00:06:53                         NaN              NaN   \n",
       "32523  2020-12-01 00:06:33                         NaN              NaN   \n",
       "35067  2020-12-01 00:10:02  Larrabee St & Armitage Ave     TA1309000006   \n",
       "96126  2020-12-01 00:21:31       Wabash Ave & Adams St     KA1503000015   \n",
       "58876  2020-12-01 00:28:04  Clarendon Ave & Leland Ave     TA1307000119   \n",
       "\n",
       "                end_station_name end_station_id  start_lat  start_lng  \\\n",
       "8504                         NaN            NaN  41.790000 -87.590000   \n",
       "32523    Wentworth Ave & 63rd St   KA1503000025  41.780000 -87.620000   \n",
       "35067  Sedgwick St & Webster Ave          13191  41.918084 -87.643749   \n",
       "96126   Peoria St & Jackson Blvd          13158  41.879472 -87.625688   \n",
       "58876       Broadway & Argyle St          13108  41.967968 -87.650001   \n",
       "\n",
       "         end_lat    end_lng member_casual  \n",
       "8504   41.800000 -87.600000        member  \n",
       "32523  41.780095 -87.629709        casual  \n",
       "35067  41.922167 -87.638888        member  \n",
       "96126  41.877642 -87.649618        member  \n",
       "58876  41.973815 -87.659660        member  "
      ]
     },
     "execution_count": 6,
     "metadata": {},
     "output_type": "execute_result"
    }
   ],
   "source": [
    "df.head()"
   ]
  },
  {
   "cell_type": "code",
   "execution_count": 7,
   "id": "76d14024",
   "metadata": {},
   "outputs": [
    {
     "name": "stdout",
     "output_type": "stream",
     "text": [
      "<class 'pandas.core.frame.DataFrame'>\n",
      "Int64Index: 5479096 entries, 8504 to 41031\n",
      "Data columns (total 13 columns):\n",
      " #   Column              Dtype  \n",
      "---  ------              -----  \n",
      " 0   ride_id             object \n",
      " 1   rideable_type       object \n",
      " 2   started_at          object \n",
      " 3   ended_at            object \n",
      " 4   start_station_name  object \n",
      " 5   start_station_id    object \n",
      " 6   end_station_name    object \n",
      " 7   end_station_id      object \n",
      " 8   start_lat           float64\n",
      " 9   start_lng           float64\n",
      " 10  end_lat             float64\n",
      " 11  end_lng             float64\n",
      " 12  member_casual       object \n",
      "dtypes: float64(4), object(9)\n",
      "memory usage: 585.2+ MB\n"
     ]
    }
   ],
   "source": [
    "# Information on dtypes.\n",
    "df.info()"
   ]
  },
  {
   "cell_type": "code",
   "execution_count": 8,
   "id": "a43f5d7d",
   "metadata": {},
   "outputs": [],
   "source": [
    "# Converting started_at and ended_at to datetime.\n",
    "df[['started_at','ended_at']]=df[['started_at','ended_at']].astype('datetime64[ns]')"
   ]
  },
  {
   "cell_type": "code",
   "execution_count": 9,
   "id": "ca6003cd",
   "metadata": {},
   "outputs": [
    {
     "data": {
      "text/plain": [
       "ride_id                    0\n",
       "rideable_type              0\n",
       "started_at                 0\n",
       "ended_at                   0\n",
       "start_station_name    651445\n",
       "start_station_id      651442\n",
       "end_station_name      698909\n",
       "end_station_id        698909\n",
       "start_lat                  0\n",
       "start_lng                  0\n",
       "end_lat                 4738\n",
       "end_lng                 4738\n",
       "member_casual              0\n",
       "dtype: int64"
      ]
     },
     "execution_count": 9,
     "metadata": {},
     "output_type": "execute_result"
    }
   ],
   "source": [
    "df.isnull().sum()"
   ]
  },
  {
   "cell_type": "code",
   "execution_count": 10,
   "id": "9b8eddb9",
   "metadata": {},
   "outputs": [
    {
     "data": {
      "text/html": [
       "<div>\n",
       "<style scoped>\n",
       "    .dataframe tbody tr th:only-of-type {\n",
       "        vertical-align: middle;\n",
       "    }\n",
       "\n",
       "    .dataframe tbody tr th {\n",
       "        vertical-align: top;\n",
       "    }\n",
       "\n",
       "    .dataframe thead th {\n",
       "        text-align: right;\n",
       "    }\n",
       "</style>\n",
       "<table border=\"1\" class=\"dataframe\">\n",
       "  <thead>\n",
       "    <tr style=\"text-align: right;\">\n",
       "      <th></th>\n",
       "      <th>ride_id</th>\n",
       "      <th>rideable_type</th>\n",
       "      <th>started_at</th>\n",
       "      <th>ended_at</th>\n",
       "      <th>start_station_name</th>\n",
       "      <th>start_station_id</th>\n",
       "      <th>end_station_name</th>\n",
       "      <th>end_station_id</th>\n",
       "      <th>start_lat</th>\n",
       "      <th>start_lng</th>\n",
       "      <th>end_lat</th>\n",
       "      <th>end_lng</th>\n",
       "      <th>member_casual</th>\n",
       "    </tr>\n",
       "  </thead>\n",
       "  <tbody>\n",
       "    <tr>\n",
       "      <th>35067</th>\n",
       "      <td>892ECFAB44203EAD</td>\n",
       "      <td>docked_bike</td>\n",
       "      <td>2020-12-01 00:07:08</td>\n",
       "      <td>2020-12-01 00:10:02</td>\n",
       "      <td>Larrabee St &amp; Armitage Ave</td>\n",
       "      <td>TA1309000006</td>\n",
       "      <td>Sedgwick St &amp; Webster Ave</td>\n",
       "      <td>13191</td>\n",
       "      <td>41.918084</td>\n",
       "      <td>-87.643749</td>\n",
       "      <td>41.922167</td>\n",
       "      <td>-87.638888</td>\n",
       "      <td>member</td>\n",
       "    </tr>\n",
       "    <tr>\n",
       "      <th>96126</th>\n",
       "      <td>7F0119D219127E62</td>\n",
       "      <td>docked_bike</td>\n",
       "      <td>2020-12-01 00:11:37</td>\n",
       "      <td>2020-12-01 00:21:31</td>\n",
       "      <td>Wabash Ave &amp; Adams St</td>\n",
       "      <td>KA1503000015</td>\n",
       "      <td>Peoria St &amp; Jackson Blvd</td>\n",
       "      <td>13158</td>\n",
       "      <td>41.879472</td>\n",
       "      <td>-87.625688</td>\n",
       "      <td>41.877642</td>\n",
       "      <td>-87.649618</td>\n",
       "      <td>member</td>\n",
       "    </tr>\n",
       "    <tr>\n",
       "      <th>58876</th>\n",
       "      <td>F5C7D6CF285DD638</td>\n",
       "      <td>docked_bike</td>\n",
       "      <td>2020-12-01 00:21:28</td>\n",
       "      <td>2020-12-01 00:28:04</td>\n",
       "      <td>Clarendon Ave &amp; Leland Ave</td>\n",
       "      <td>TA1307000119</td>\n",
       "      <td>Broadway &amp; Argyle St</td>\n",
       "      <td>13108</td>\n",
       "      <td>41.967968</td>\n",
       "      <td>-87.650001</td>\n",
       "      <td>41.973815</td>\n",
       "      <td>-87.659660</td>\n",
       "      <td>member</td>\n",
       "    </tr>\n",
       "    <tr>\n",
       "      <th>121531</th>\n",
       "      <td>0D424379FB10DC7A</td>\n",
       "      <td>electric_bike</td>\n",
       "      <td>2020-12-01 00:21:32</td>\n",
       "      <td>2020-12-01 00:26:27</td>\n",
       "      <td>Clark St &amp; Newport St</td>\n",
       "      <td>632</td>\n",
       "      <td>Lincoln Ave &amp; Belmont Ave</td>\n",
       "      <td>TA1309000042</td>\n",
       "      <td>41.944480</td>\n",
       "      <td>-87.654786</td>\n",
       "      <td>41.939263</td>\n",
       "      <td>-87.668272</td>\n",
       "      <td>casual</td>\n",
       "    </tr>\n",
       "    <tr>\n",
       "      <th>111241</th>\n",
       "      <td>DC7DC1F9434292F5</td>\n",
       "      <td>docked_bike</td>\n",
       "      <td>2020-12-01 00:27:36</td>\n",
       "      <td>2020-12-01 00:30:07</td>\n",
       "      <td>Wolcott (Ravenswood) Ave &amp; Montrose Ave</td>\n",
       "      <td>TA1307000144</td>\n",
       "      <td>Clark St &amp; Montrose Ave</td>\n",
       "      <td>KA1503000022</td>\n",
       "      <td>41.961406</td>\n",
       "      <td>-87.676169</td>\n",
       "      <td>41.961588</td>\n",
       "      <td>-87.666036</td>\n",
       "      <td>member</td>\n",
       "    </tr>\n",
       "  </tbody>\n",
       "</table>\n",
       "</div>"
      ],
      "text/plain": [
       "                 ride_id  rideable_type          started_at  \\\n",
       "35067   892ECFAB44203EAD    docked_bike 2020-12-01 00:07:08   \n",
       "96126   7F0119D219127E62    docked_bike 2020-12-01 00:11:37   \n",
       "58876   F5C7D6CF285DD638    docked_bike 2020-12-01 00:21:28   \n",
       "121531  0D424379FB10DC7A  electric_bike 2020-12-01 00:21:32   \n",
       "111241  DC7DC1F9434292F5    docked_bike 2020-12-01 00:27:36   \n",
       "\n",
       "                  ended_at                       start_station_name  \\\n",
       "35067  2020-12-01 00:10:02               Larrabee St & Armitage Ave   \n",
       "96126  2020-12-01 00:21:31                    Wabash Ave & Adams St   \n",
       "58876  2020-12-01 00:28:04               Clarendon Ave & Leland Ave   \n",
       "121531 2020-12-01 00:26:27                    Clark St & Newport St   \n",
       "111241 2020-12-01 00:30:07  Wolcott (Ravenswood) Ave & Montrose Ave   \n",
       "\n",
       "       start_station_id           end_station_name end_station_id  start_lat  \\\n",
       "35067      TA1309000006  Sedgwick St & Webster Ave          13191  41.918084   \n",
       "96126      KA1503000015   Peoria St & Jackson Blvd          13158  41.879472   \n",
       "58876      TA1307000119       Broadway & Argyle St          13108  41.967968   \n",
       "121531              632  Lincoln Ave & Belmont Ave   TA1309000042  41.944480   \n",
       "111241     TA1307000144    Clark St & Montrose Ave   KA1503000022  41.961406   \n",
       "\n",
       "        start_lng    end_lat    end_lng member_casual  \n",
       "35067  -87.643749  41.922167 -87.638888        member  \n",
       "96126  -87.625688  41.877642 -87.649618        member  \n",
       "58876  -87.650001  41.973815 -87.659660        member  \n",
       "121531 -87.654786  41.939263 -87.668272        casual  \n",
       "111241 -87.676169  41.961588 -87.666036        member  "
      ]
     },
     "execution_count": 10,
     "metadata": {},
     "output_type": "execute_result"
    }
   ],
   "source": [
    "new_df=df.dropna(axis=0,how='any')\n",
    "new_df.head()"
   ]
  },
  {
   "cell_type": "code",
   "execution_count": 11,
   "id": "cc090d31",
   "metadata": {},
   "outputs": [
    {
     "name": "stdout",
     "output_type": "stream",
     "text": [
      "Old dataframe length  5479096\n",
      "New dataframe length  4525842\n",
      "Number of rows with at least 1 missing value  953254\n"
     ]
    }
   ],
   "source": [
    "print('Old dataframe length ',len(df))\n",
    "print(\"New dataframe length \",len(new_df))\n",
    "print(\"Number of rows with at least 1 missing value \",(len(df)-len(new_df)))"
   ]
  },
  {
   "cell_type": "code",
   "execution_count": 12,
   "id": "3a2dd161",
   "metadata": {},
   "outputs": [
    {
     "data": {
      "text/plain": [
       "ride_id               0\n",
       "rideable_type         0\n",
       "started_at            0\n",
       "ended_at              0\n",
       "start_station_name    0\n",
       "start_station_id      0\n",
       "end_station_name      0\n",
       "end_station_id        0\n",
       "start_lat             0\n",
       "start_lng             0\n",
       "end_lat               0\n",
       "end_lng               0\n",
       "member_casual         0\n",
       "dtype: int64"
      ]
     },
     "execution_count": 12,
     "metadata": {},
     "output_type": "execute_result"
    }
   ],
   "source": [
    "new_df.isnull().sum()      # all the missing values have been removed"
   ]
  },
  {
   "cell_type": "code",
   "execution_count": 13,
   "id": "768d5c9e",
   "metadata": {},
   "outputs": [
    {
     "data": {
      "text/plain": [
       "classic_bike     3212119\n",
       "electric_bike     993581\n",
       "docked_bike       320142\n",
       "Name: rideable_type, dtype: int64"
      ]
     },
     "execution_count": 13,
     "metadata": {},
     "output_type": "execute_result"
    }
   ],
   "source": [
    "# Various types of Bikes available in the Dataframe\n",
    "new_df['rideable_type'].value_counts()"
   ]
  },
  {
   "cell_type": "code",
   "execution_count": 14,
   "id": "b08f4e1c",
   "metadata": {},
   "outputs": [
    {
     "data": {
      "text/plain": [
       "(0.0, 3500000.0)"
      ]
     },
     "execution_count": 14,
     "metadata": {},
     "output_type": "execute_result"
    },
    {
     "data": {
      "image/png": "[encoded data removed]",
      "text/plain": [
       "<Figure size 432x288 with 1 Axes>"
      ]
     },
     "metadata": {
      "needs_background": "light"
     },
     "output_type": "display_data"
    }
   ],
   "source": [
    "# visualization of the above data\n",
    "sns.countplot(x=new_df['rideable_type'])\n",
    "plt.xlabel('Types of Bikes')\n",
    "plt.ylabel('No.of Trips')\n",
    "plt.ylim([0,3500000])"
   ]
  },
  {
   "cell_type": "markdown",
   "id": "a259b192",
   "metadata": {},
   "source": [
    "There are three types of bikes and classic bikes are used by the majority of the customers whereas electric and docked bikes have significantly less utilization."
   ]
  },
  {
   "cell_type": "code",
   "execution_count": 33,
   "id": "8a640e87",
   "metadata": {},
   "outputs": [],
   "source": [
    "import datetime\n",
    "from datetime import datetime"
   ]
  },
  {
   "cell_type": "code",
   "execution_count": 34,
   "id": "bdf4381a",
   "metadata": {},
   "outputs": [],
   "source": [
    "from_time=new_df['started_at'].dt.time"
   ]
  },
  {
   "cell_type": "code",
   "execution_count": 35,
   "id": "b61046a6",
   "metadata": {
    "scrolled": true
   },
   "outputs": [],
   "source": [
    "end_time=new_df['ended_at'].dt.time"
   ]
  },
  {
   "cell_type": "code",
   "execution_count": 36,
   "id": "bfc1d243",
   "metadata": {},
   "outputs": [
    {
     "name": "stderr",
     "output_type": "stream",
     "text": [
      "C:\\Users\\Admin\\new anaconda\\lib\\site-packages\\pandas\\core\\indexing.py:1597: SettingWithCopyWarning: \n",
      "A value is trying to be set on a copy of a slice from a DataFrame.\n",
      "Try using .loc[row_indexer,col_indexer] = value instead\n",
      "\n",
      "See the caveats in the documentation: https://pandas.pydata.org/pandas-docs/stable/user_guide/indexing.html#returning-a-view-versus-a-copy\n",
      "  self.obj[key] = value\n",
      "C:\\Users\\Admin\\new anaconda\\lib\\site-packages\\pandas\\core\\indexing.py:1676: SettingWithCopyWarning: \n",
      "A value is trying to be set on a copy of a slice from a DataFrame.\n",
      "Try using .loc[row_indexer,col_indexer] = value instead\n",
      "\n",
      "See the caveats in the documentation: https://pandas.pydata.org/pandas-docs/stable/user_guide/indexing.html#returning-a-view-versus-a-copy\n",
      "  self._setitem_single_column(ilocs[0], value, pi)\n"
     ]
    }
   ],
   "source": [
    "new_df.loc[:,'ride_length']=pd.to_datetime(new_df['ended_at'])-pd.to_datetime(new_df['started_at'])"
   ]
  },
  {
   "cell_type": "code",
   "execution_count": 37,
   "id": "7bc0cbd0",
   "metadata": {},
   "outputs": [
    {
     "name": "stdout",
     "output_type": "stream",
     "text": [
      "Index(['ride_id', 'rideable_type', 'started_at', 'ended_at',\n",
      "       'start_station_name', 'start_station_id', 'end_station_name',\n",
      "       'end_station_id', 'start_lat', 'start_lng', 'end_lat', 'end_lng',\n",
      "       'member_casual', 'ride_length'],\n",
      "      dtype='object')\n"
     ]
    }
   ],
   "source": [
    "print(new_df.columns)"
   ]
  },
  {
   "cell_type": "code",
   "execution_count": 94,
   "id": "4d1079cd",
   "metadata": {},
   "outputs": [
    {
     "name": "stdout",
     "output_type": "stream",
     "text": [
      "<class 'pandas.core.frame.DataFrame'>\n",
      "Int64Index: 4525842 entries, 35067 to 41031\n",
      "Data columns (total 19 columns):\n",
      " #   Column              Dtype          \n",
      "---  ------              -----          \n",
      " 0   ride_id             object         \n",
      " 1   rideable_type       object         \n",
      " 2   started_at          datetime64[ns] \n",
      " 3   ended_at            datetime64[ns] \n",
      " 4   start_station_name  object         \n",
      " 5   start_station_id    object         \n",
      " 6   end_station_name    object         \n",
      " 7   end_station_id      object         \n",
      " 8   start_lat           float64        \n",
      " 9   start_lng           float64        \n",
      " 10  end_lat             float64        \n",
      " 11  end_lng             float64        \n",
      " 12  member_casual       object         \n",
      " 13  ride_length         timedelta64[ns]\n",
      " 14  park                int32          \n",
      " 15  start_date1         datetime64[ns] \n",
      " 16  week_day            object         \n",
      " 17  year                int64          \n",
      " 18  month               int64          \n",
      "dtypes: datetime64[ns](3), float64(4), int32(1), int64(2), object(8), timedelta64[ns](1)\n",
      "memory usage: 705.6+ MB\n"
     ]
    }
   ],
   "source": [
    "new_df.info()"
   ]
  },
  {
   "cell_type": "code",
   "execution_count": 24,
   "id": "3bcf2e17",
   "metadata": {},
   "outputs": [
    {
     "data": {
      "text/plain": [
       "Streeter Dr & Grand Ave    79421\n",
       "Michigan Ave & Oak St      42574\n",
       "Wells St & Concord Ln      41108\n",
       "Millennium Park            39879\n",
       "Clark St & Elm St          39176\n",
       "Name: start_station_name, dtype: int64"
      ]
     },
     "execution_count": 24,
     "metadata": {},
     "output_type": "execute_result"
    }
   ],
   "source": [
    "# The Bike stations where majority of public begins their journey\n",
    "new_df['start_station_name'].value_counts().head()"
   ]
  },
  {
   "cell_type": "code",
   "execution_count": 25,
   "id": "973da8f8",
   "metadata": {},
   "outputs": [
    {
     "data": {
      "text/plain": [
       "Menard Ave & North Ave            1\n",
       "N Hampden Ct & W Diversey Ave     1\n",
       "Throop/Hastings Mobile Station    1\n",
       "Pulaski & Ann Lurie Pl            1\n",
       "351                               1\n",
       "Name: start_station_name, dtype: int64"
      ]
     },
     "execution_count": 25,
     "metadata": {},
     "output_type": "execute_result"
    }
   ],
   "source": [
    "# This are the stands where least people visit \n",
    "new_df['start_station_name'].value_counts().tail()"
   ]
  },
  {
   "cell_type": "code",
   "execution_count": 26,
   "id": "8f973dda",
   "metadata": {},
   "outputs": [
    {
     "data": {
      "text/plain": [
       "Streeter Dr & Grand Ave    80753\n",
       "Michigan Ave & Oak St      43308\n",
       "Wells St & Concord Ln      41579\n",
       "Millennium Park            41058\n",
       "Clark St & Elm St          38698\n",
       "Name: end_station_name, dtype: int64"
      ]
     },
     "execution_count": 26,
     "metadata": {},
     "output_type": "execute_result"
    }
   ],
   "source": [
    "# Majority of people end their journey on this various bike stations\n",
    "new_df['end_station_name'].value_counts().head()"
   ]
  },
  {
   "cell_type": "code",
   "execution_count": 28,
   "id": "8ecf7ec1",
   "metadata": {},
   "outputs": [
    {
     "data": {
      "text/plain": [
       "Hamlin Ave & 62nd Pl              1\n",
       "Augusta Blvd & Laramie Ave        1\n",
       "Pulaski & Ann Lurie Pl            1\n",
       "Sacramento Ave & 25th St          1\n",
       "Throop/Hastings Mobile Station    1\n",
       "Name: end_station_name, dtype: int64"
      ]
     },
     "execution_count": 28,
     "metadata": {},
     "output_type": "execute_result"
    }
   ],
   "source": [
    "# least visited bike stations\n",
    "new_df['end_station_name'].value_counts().tail()"
   ]
  },
  {
   "cell_type": "code",
   "execution_count": 29,
   "id": "ca0bdf70",
   "metadata": {},
   "outputs": [
    {
     "name": "stdout",
     "output_type": "stream",
     "text": [
      "member    2497987\n",
      "casual    2027855\n",
      "Name: member_casual, dtype: int64\n"
     ]
    }
   ],
   "source": [
    "# Distribution of Members and Casual riders.\n",
    "g=new_df['member_casual'].value_counts()\n",
    "print(g)"
   ]
  },
  {
   "cell_type": "code",
   "execution_count": 30,
   "id": "b7bea411",
   "metadata": {},
   "outputs": [
    {
     "data": {
      "image/png": "[encoded data removed]",
      "text/plain": [
       "<Figure size 720x576 with 1 Axes>"
      ]
     },
     "metadata": {},
     "output_type": "display_data"
    }
   ],
   "source": [
    "pie=plt.subplots(figsize=[10,8])\n",
    "labels=g.keys()\n",
    "plt.pie(g,labels=labels,pctdistance=0.5,autopct='%.1f%%')\n",
    "plt.title('Distribution of Riders')\n",
    "plt.legend(g)\n",
    "plt.show()"
   ]
  },
  {
   "cell_type": "markdown",
   "id": "4e9c0501",
   "metadata": {},
   "source": [
    "Most of the users are members (55.2%) while 44.8% are casual riders."
   ]
  },
  {
   "cell_type": "code",
   "execution_count": 54,
   "id": "1db0119a",
   "metadata": {},
   "outputs": [
    {
     "data": {
      "image/png": "[encoded data removed]",
      "text/plain": [
       "<Figure size 1440x1440 with 6 Axes>"
      ]
     },
     "metadata": {
      "needs_background": "light"
     },
     "output_type": "display_data"
    }
   ],
   "source": [
    "new_df.hist(bins=20,figsize=[20,20])\n",
    "plt.suptitle('Seasonality and Station Coordinates')\n",
    "plt.show()"
   ]
  },
  {
   "cell_type": "markdown",
   "id": "1ef6921f",
   "metadata": {},
   "source": [
    "The maximum number of bikes are used after May2021. Longitude and Latitude coordinates are close to each other with most frequent values \n",
    "occuring in the middle of the city."
   ]
  },
  {
   "cell_type": "code",
   "execution_count": 63,
   "id": "fb0bc9df",
   "metadata": {},
   "outputs": [
    {
     "name": "stderr",
     "output_type": "stream",
     "text": [
      "<ipython-input-63-26508e38ab78>:2: SettingWithCopyWarning: \n",
      "A value is trying to be set on a copy of a slice from a DataFrame.\n",
      "Try using .loc[row_indexer,col_indexer] = value instead\n",
      "\n",
      "See the caveats in the documentation: https://pandas.pydata.org/pandas-docs/stable/user_guide/indexing.html#returning-a-view-versus-a-copy\n",
      "  new_df['park']=new_df['start_station_name'].str.lower().str.contains('park')\n",
      "<ipython-input-63-26508e38ab78>:3: SettingWithCopyWarning: \n",
      "A value is trying to be set on a copy of a slice from a DataFrame.\n",
      "Try using .loc[row_indexer,col_indexer] = value instead\n",
      "\n",
      "See the caveats in the documentation: https://pandas.pydata.org/pandas-docs/stable/user_guide/indexing.html#returning-a-view-versus-a-copy\n",
      "  new_df['park']=new_df['park'].fillna(0).astype(int)\n"
     ]
    }
   ],
   "source": [
    "# Location features.\n",
    "new_df['park']=new_df['start_station_name'].str.lower().str.contains('park')\n",
    "new_df['park']=new_df['park'].fillna(0).astype(int)"
   ]
  },
  {
   "cell_type": "code",
   "execution_count": 67,
   "id": "c2711acb",
   "metadata": {},
   "outputs": [
    {
     "data": {
      "image/png": "[encoded data removed]",
      "text/plain": [
       "<Figure size 432x288 with 1 Axes>"
      ]
     },
     "metadata": {},
     "output_type": "display_data"
    }
   ],
   "source": [
    "new_df['park'].value_counts().plot.pie(autopct='%.2f%%',fontsize=15)\n",
    "plt.title('Stands near the Park',fontsize=20)\n",
    "plt.show()"
   ]
  },
  {
   "cell_type": "markdown",
   "id": "28a0614b",
   "metadata": {},
   "source": [
    "Based on the above analysis only 3.62 % of bike stations are located near park areas."
   ]
  },
  {
   "cell_type": "code",
   "execution_count": 70,
   "id": "e1162e72",
   "metadata": {},
   "outputs": [
    {
     "name": "stderr",
     "output_type": "stream",
     "text": [
      "<ipython-input-70-47e00d128ded>:2: SettingWithCopyWarning: \n",
      "A value is trying to be set on a copy of a slice from a DataFrame.\n",
      "Try using .loc[row_indexer,col_indexer] = value instead\n",
      "\n",
      "See the caveats in the documentation: https://pandas.pydata.org/pandas-docs/stable/user_guide/indexing.html#returning-a-view-versus-a-copy\n",
      "  new_df['start_date1']=new_df['started_at'].dt.date\n"
     ]
    },
    {
     "data": {
      "text/plain": [
       "35067     2020-12-01\n",
       "96126     2020-12-01\n",
       "58876     2020-12-01\n",
       "121531    2020-12-01\n",
       "111241    2020-12-01\n",
       "             ...    \n",
       "259368    2021-11-30\n",
       "55012     2021-11-30\n",
       "227838    2021-11-30\n",
       "113633    2021-11-30\n",
       "41031     2021-11-30\n",
       "Name: start_date1, Length: 4525842, dtype: object"
      ]
     },
     "execution_count": 70,
     "metadata": {},
     "output_type": "execute_result"
    }
   ],
   "source": [
    "# splitting and extracting the date from the \"started_at\" column\n",
    "new_df['start_date1']=new_df['started_at'].dt.date\n",
    "new_df['start_date1']"
   ]
  },
  {
   "cell_type": "code",
   "execution_count": 72,
   "id": "c05564b5",
   "metadata": {},
   "outputs": [
    {
     "name": "stderr",
     "output_type": "stream",
     "text": [
      "<ipython-input-72-a2c2dcc2e773>:2: SettingWithCopyWarning: \n",
      "A value is trying to be set on a copy of a slice from a DataFrame.\n",
      "Try using .loc[row_indexer,col_indexer] = value instead\n",
      "\n",
      "See the caveats in the documentation: https://pandas.pydata.org/pandas-docs/stable/user_guide/indexing.html#returning-a-view-versus-a-copy\n",
      "  new_df['start_date1']=new_df['start_date1'].astype('datetime64[ns]')\n"
     ]
    }
   ],
   "source": [
    "# Converting start_date1 into datetime datatype\n",
    "new_df['start_date1']=new_df['start_date1'].astype('datetime64[ns]')"
   ]
  },
  {
   "cell_type": "code",
   "execution_count": 74,
   "id": "0c728eb1",
   "metadata": {},
   "outputs": [
    {
     "name": "stderr",
     "output_type": "stream",
     "text": [
      "<ipython-input-74-cec755763728>:2: SettingWithCopyWarning: \n",
      "A value is trying to be set on a copy of a slice from a DataFrame.\n",
      "Try using .loc[row_indexer,col_indexer] = value instead\n",
      "\n",
      "See the caveats in the documentation: https://pandas.pydata.org/pandas-docs/stable/user_guide/indexing.html#returning-a-view-versus-a-copy\n",
      "  new_df['week_day']=new_df['start_date1'].apply(lambda x:x.weekday())\n"
     ]
    },
    {
     "data": {
      "text/plain": [
       "array([1, 2, 3, 4, 5, 6, 0], dtype=int64)"
      ]
     },
     "execution_count": 74,
     "metadata": {},
     "output_type": "execute_result"
    }
   ],
   "source": [
    "# Finding the weekday of the date.\n",
    "new_df['week_day']=new_df['start_date1'].apply(lambda x:x.weekday())\n",
    "new_df['week_day'].unique()"
   ]
  },
  {
   "cell_type": "code",
   "execution_count": 80,
   "id": "bc15ea75",
   "metadata": {},
   "outputs": [
    {
     "name": "stderr",
     "output_type": "stream",
     "text": [
      "<ipython-input-80-0293b05da8ca>:3: SettingWithCopyWarning: \n",
      "A value is trying to be set on a copy of a slice from a DataFrame.\n",
      "Try using .loc[row_indexer,col_indexer] = value instead\n",
      "\n",
      "See the caveats in the documentation: https://pandas.pydata.org/pandas-docs/stable/user_guide/indexing.html#returning-a-view-versus-a-copy\n",
      "  new_df[\"week_day\"] = new_df[\"week_day\"].apply(lambda y: dict1[y])\n"
     ]
    },
    {
     "data": {
      "text/plain": [
       "35067     Monday\n",
       "96126     Monday\n",
       "58876     Monday\n",
       "121531    Monday\n",
       "111241    Monday\n",
       "           ...  \n",
       "259368    Monday\n",
       "55012     Monday\n",
       "227838    Monday\n",
       "113633    Monday\n",
       "41031     Monday\n",
       "Name: week_day, Length: 4525842, dtype: object"
      ]
     },
     "execution_count": 80,
     "metadata": {},
     "output_type": "execute_result"
    }
   ],
   "source": [
    "# Converting weekday values into weekday\n",
    "dict1 = {0: \"Sunday\", 1: \"Monday\", 2: \"Tuesday\", 3: \"Wednesday\", 4: \"Thursday\", 5: \"Friday\", 6: \"Saturday\"}\n",
    "new_df[\"week_day\"] = new_df[\"week_day\"].apply(lambda y: dict1[y])\n",
    "new_df[\"week_day\"]"
   ]
  },
  {
   "cell_type": "code",
   "execution_count": 82,
   "id": "095b5e0a",
   "metadata": {},
   "outputs": [],
   "source": [
    "copydf=new_df.copy()"
   ]
  },
  {
   "cell_type": "code",
   "execution_count": 88,
   "id": "0db503b3",
   "metadata": {},
   "outputs": [
    {
     "name": "stdout",
     "output_type": "stream",
     "text": [
      "Friday       818222\n",
      "Saturday     713056\n",
      "Thursday     639793\n",
      "Tuesday      603183\n",
      "Monday       600966\n",
      "Wednesday    582070\n",
      "Sunday       568552\n",
      "Name: week_day, dtype: int64\n"
     ]
    },
    {
     "data": {
      "text/plain": [
       "Text(0.5, 1.0, 'No.of rides vs Days')"
      ]
     },
     "execution_count": 88,
     "metadata": {},
     "output_type": "execute_result"
    },
    {
     "data": {
      "image/png": "[encoded data removed]",
      "text/plain": [
       "<Figure size 720x432 with 1 Axes>"
      ]
     },
     "metadata": {
      "needs_background": "light"
     },
     "output_type": "display_data"
    }
   ],
   "source": [
    "print(new_df['week_day'].value_counts())\n",
    "plt.figure(figsize=[10,6])\n",
    "sns.countplot(x=new_df['week_day'])\n",
    "plt.xlabel('No.of Days')\n",
    "plt.ylabel('Count of rides')\n",
    "plt.title('No.of rides vs Days')"
   ]
  },
  {
   "cell_type": "markdown",
   "id": "8da0cf1a",
   "metadata": {},
   "source": [
    "Friday and Saturday are the days where most people make use of this bicylces; however the least usage of bikes is on Wednesday and Sunday."
   ]
  },
  {
   "cell_type": "code",
   "execution_count": 89,
   "id": "91bcbb73",
   "metadata": {},
   "outputs": [
    {
     "name": "stderr",
     "output_type": "stream",
     "text": [
      "<ipython-input-89-efd5bc26b219>:2: SettingWithCopyWarning: \n",
      "A value is trying to be set on a copy of a slice from a DataFrame.\n",
      "Try using .loc[row_indexer,col_indexer] = value instead\n",
      "\n",
      "See the caveats in the documentation: https://pandas.pydata.org/pandas-docs/stable/user_guide/indexing.html#returning-a-view-versus-a-copy\n",
      "  new_df['year']=new_df['start_date1'].dt.year\n",
      "<ipython-input-89-efd5bc26b219>:3: SettingWithCopyWarning: \n",
      "A value is trying to be set on a copy of a slice from a DataFrame.\n",
      "Try using .loc[row_indexer,col_indexer] = value instead\n",
      "\n",
      "See the caveats in the documentation: https://pandas.pydata.org/pandas-docs/stable/user_guide/indexing.html#returning-a-view-versus-a-copy\n",
      "  new_df['month']=new_df['start_date1'].dt.month\n"
     ]
    }
   ],
   "source": [
    "# Extracting year and month from start date column\n",
    "new_df['year']=new_df['start_date1'].dt.year\n",
    "new_df['month']=new_df['start_date1'].dt.month"
   ]
  },
  {
   "cell_type": "code",
   "execution_count": 96,
   "id": "aa332e11",
   "metadata": {},
   "outputs": [
    {
     "data": {
      "text/plain": [
       "False"
      ]
     },
     "execution_count": 96,
     "metadata": {},
     "output_type": "execute_result"
    }
   ],
   "source": [
    "# Checking if there are any duplicate values in the dataframe\n",
    "new_df.duplicated().any()"
   ]
  },
  {
   "cell_type": "code",
   "execution_count": 97,
   "id": "5529314f",
   "metadata": {},
   "outputs": [
    {
     "data": {
      "text/plain": [
       "Timedelta('0 days 00:19:57.555200557')"
      ]
     },
     "execution_count": 97,
     "metadata": {},
     "output_type": "execute_result"
    }
   ],
   "source": [
    "# To calculate the mean of ride length of all types of users.\n",
    "mean_ride_length=new_df['ride_length'].mean()\n",
    "mean_ride_length"
   ]
  },
  {
   "cell_type": "code",
   "execution_count": 98,
   "id": "0fa61305",
   "metadata": {},
   "outputs": [
    {
     "data": {
      "text/plain": [
       "Timedelta('38 days 20:24:09')"
      ]
     },
     "execution_count": 98,
     "metadata": {},
     "output_type": "execute_result"
    }
   ],
   "source": [
    "# To calculate the max ride_length from the users\n",
    "max_ride_length =new_df['ride_length'].max()\n",
    "max_ride_length"
   ]
  },
  {
   "cell_type": "code",
   "execution_count": 117,
   "id": "cbb4079b",
   "metadata": {},
   "outputs": [
    {
     "data": {
      "text/plain": [
       "Timedelta('0 days 00:10:19.341028195')"
      ]
     },
     "execution_count": 117,
     "metadata": {},
     "output_type": "execute_result"
    }
   ],
   "source": [
    "# to calculate the mean ride for a member\n",
    "mean_ride_length_member=new_df[new_df['member_casual']=='member']\n",
    "mean_ride_length_member=mean_ride_length_member['ride_length'].mean()\n",
    "mean_ride_length_member"
   ]
  },
  {
   "cell_type": "code",
   "execution_count": 119,
   "id": "3360eda8",
   "metadata": {},
   "outputs": [
    {
     "data": {
      "text/plain": [
       "Timedelta('0 days 00:31:49.820863424')"
      ]
     },
     "execution_count": 119,
     "metadata": {},
     "output_type": "execute_result"
    }
   ],
   "source": [
    "# to calculate the mean ride for a casual rider\n",
    "mean_ride_length_casual=new_df[new_df['member_casual']=='casual']\n",
    "mean_ride_length_casual=mean_ride_length_casual['ride_length'].mean()\n",
    "mean_ride_length_casual"
   ]
  },
  {
   "cell_type": "code",
   "execution_count": 120,
   "id": "f4594cb1",
   "metadata": {},
   "outputs": [
    {
     "data": {
      "text/plain": [
       "Timedelta('1 days 00:59:50')"
      ]
     },
     "execution_count": 120,
     "metadata": {},
     "output_type": "execute_result"
    }
   ],
   "source": [
    "# to calculate the max ride for a member.\n",
    "max_ride_length_member=new_df[new_df['member_casual']=='member']\n",
    "max_ride_length_member=max_ride_length_member['ride_length'].max()\n",
    "max_ride_length_member"
   ]
  },
  {
   "cell_type": "code",
   "execution_count": 122,
   "id": "a5e06560",
   "metadata": {},
   "outputs": [
    {
     "data": {
      "text/plain": [
       "Timedelta('38 days 20:24:09')"
      ]
     },
     "execution_count": 122,
     "metadata": {},
     "output_type": "execute_result"
    }
   ],
   "source": [
    "# to calculate the max ride for a casual rider.\n",
    "max_ride_length_casual=new_df[new_df['member_casual']=='casual']\n",
    "max_ride_length_casual=max_ride_length_casual['ride_length'].max()\n",
    "max_ride_length_casual"
   ]
  },
  {
   "cell_type": "code",
   "execution_count": 124,
   "id": "25359fc0",
   "metadata": {},
   "outputs": [
    {
     "data": {
      "text/plain": [
       "0    Tuesday\n",
       "dtype: object"
      ]
     },
     "execution_count": 124,
     "metadata": {},
     "output_type": "execute_result"
    }
   ],
   "source": [
    "# to calculate the mode of week day for a member\n",
    "mode_week_day_member=new_df[new_df['member_casual']=='member']\n",
    "mode_week_day_member=mode_week_day_member['week_day'].mode()\n",
    "mode_week_day_member"
   ]
  },
  {
   "cell_type": "code",
   "execution_count": 125,
   "id": "17e04a05",
   "metadata": {},
   "outputs": [
    {
     "data": {
      "text/plain": [
       "0    Friday\n",
       "dtype: object"
      ]
     },
     "execution_count": 125,
     "metadata": {},
     "output_type": "execute_result"
    }
   ],
   "source": [
    "# to calculate the mode of week day for casual\n",
    "mode_week_day_casual=new_df[new_df['member_casual']=='casual']\n",
    "mode_week_day_casual=mode_week_day_casual['week_day'].mode()\n",
    "mode_week_day_casual"
   ]
  },
  {
   "cell_type": "code",
   "execution_count": 127,
   "id": "75043c66",
   "metadata": {},
   "outputs": [
    {
     "data": {
      "text/plain": [
       "month  member_casual\n",
       "1      member            68819\n",
       "       casual            14690\n",
       "2      member            34383\n",
       "       casual             8613\n",
       "3      member           130049\n",
       "       casual            75642\n",
       "4      member           177787\n",
       "       casual           120420\n",
       "5      member           234165\n",
       "       casual           216829\n",
       "6      member           304586\n",
       "       casual           304192\n",
       "7      casual           369415\n",
       "       member           322906\n",
       "8      casual           341476\n",
       "       member           332933\n",
       "9      member           328219\n",
       "       casual           292931\n",
       "10     member           288855\n",
       "       casual           189117\n",
       "11     member           185926\n",
       "       casual            69978\n",
       "12     member            89359\n",
       "       casual            24552\n",
       "Name: member_casual, dtype: int64"
      ]
     },
     "execution_count": 127,
     "metadata": {},
     "output_type": "execute_result"
    }
   ],
   "source": [
    "# Checking the number of user over months\n",
    "users_over_month=new_df.groupby('month')['member_casual'].value_counts()\n",
    "users_over_month"
   ]
  },
  {
   "cell_type": "code",
   "execution_count": 150,
   "id": "b8d778ee",
   "metadata": {},
   "outputs": [
    {
     "data": {
      "text/plain": [
       "Text(0.5, 1.0, 'Distribution of users per month')"
      ]
     },
     "execution_count": 150,
     "metadata": {},
     "output_type": "execute_result"
    },
    {
     "data": {
      "image/png": "[encoded data removed]",
      "text/plain": [
       "<Figure size 720x360 with 1 Axes>"
      ]
     },
     "metadata": {
      "needs_background": "light"
     },
     "output_type": "display_data"
    }
   ],
   "source": [
    "#Plotting the count of Member and Casual riders over months.\n",
    "plt.figure(figsize=[10,5])\n",
    "sns.countplot(x=new_df['member_casual'],hue=new_df['month'])\n",
    "plt.xlabel('Categories of Users')\n",
    "plt.ylabel('Count')\n",
    "plt.title('Distribution of users per month')"
   ]
  },
  {
   "cell_type": "markdown",
   "id": "b3e3264f",
   "metadata": {},
   "source": [
    "For Members July is the month where maximum no.of bikes were ridden and in the other category June is the month."
   ]
  },
  {
   "cell_type": "code",
   "execution_count": 151,
   "id": "441752c5",
   "metadata": {},
   "outputs": [
    {
     "data": {
      "text/plain": [
       "member_casual  rideable_type\n",
       "casual         classic_bike     1253132\n",
       "               electric_bike     462589\n",
       "               docked_bike       312134\n",
       "member         classic_bike     1958987\n",
       "               electric_bike     530992\n",
       "               docked_bike         8008\n",
       "Name: rideable_type, dtype: int64"
      ]
     },
     "execution_count": 151,
     "metadata": {},
     "output_type": "execute_result"
    }
   ],
   "source": [
    "# Check the number of users for a particular rideable type\n",
    "ride_type=new_df.groupby('member_casual')['rideable_type'].value_counts()\n",
    "ride_type"
   ]
  },
  {
   "cell_type": "code",
   "execution_count": 154,
   "id": "37d7e4de",
   "metadata": {},
   "outputs": [
    {
     "data": {
      "text/plain": [
       "Text(0.5, 1.0, 'Count of Member and Casual Riders based on the various bikes')"
      ]
     },
     "execution_count": 154,
     "metadata": {},
     "output_type": "execute_result"
    },
    {
     "data": {
      "image/png": "[encoded data removed]",
      "text/plain": [
       "<Figure size 720x360 with 1 Axes>"
      ]
     },
     "metadata": {
      "needs_background": "light"
     },
     "output_type": "display_data"
    }
   ],
   "source": [
    "# Plot the distribution of bikes which are used by casual or members.\n",
    "plt.figure(figsize=[10,5])\n",
    "sns.countplot(x=new_df['rideable_type'],hue=new_df['member_casual'])\n",
    "plt.xlabel('Various Bikes')\n",
    "plt.ylabel('Count of Bikes used')\n",
    "plt.title('Count of Member and Casual Riders based on the various bikes')"
   ]
  },
  {
   "cell_type": "markdown",
   "id": "a3b04e71",
   "metadata": {},
   "source": [
    "Members used classic and electric bikes in a major proportion whereas casual riders use all the three varieties of bikes."
   ]
  },
  {
   "cell_type": "markdown",
   "id": "f7735dd4",
   "metadata": {},
   "source": [
    "# Conclusions"
   ]
  },
  {
   "cell_type": "markdown",
   "id": "2a609885",
   "metadata": {},
   "source": [
    "1-For Members July is the month where maximum no.of bikes are used and they utilize classic bikes more if compared to \n",
    "the electric bikes whereas Casual riders use all the bikes which are available.\n",
    "\n",
    "2- Casual Riders spend a lot of time on these bikes; however members make more number of trips.\n",
    "\n",
    "3- Rewards must be given to riders who choose to select annual plan and wants to become as a member because this will create awareness among the individuals.\n",
    "\n",
    "4- The count of Members are high during May to Septemeber so company must focus on this people and the number of casual riders are at peak during May to August so that particular time organization must roll out new strategies into the market to increase their count.\n",
    "\n",
    "5- More number of stations should be opened near parks because people visit park to burn calories or spend some time with the nature so cycling would be the best way to navigate around the park with friends and cutdown some calories.\n",
    "\n",
    "6- Marathons and cycling events must be kept to advertise the product into the market so new customers could be gained in that process."
   ]
  },
  {
   "cell_type": "code",
   "execution_count": null,
   "id": "00cef577",
   "metadata": {},
   "outputs": [],
   "source": []
  }
 ],
 "metadata": {
  "kernelspec": {
   "display_name": "Python 3",
   "language": "python",
   "name": "python3"
  },
  "language_info": {
   "codemirror_mode": {
    "name": "ipython",
    "version": 3
   },
   "file_extension": ".py",
   "mimetype": "text/x-python",
   "name": "python",
   "nbconvert_exporter": "python",
   "pygments_lexer": "ipython3",
   "version": "3.8.8"
  }
 },
 "nbformat": 4,
 "nbformat_minor": 5
}
